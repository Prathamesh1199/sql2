{
 "cells": [
  {
   "cell_type": "code",
   "execution_count": null,
   "id": "9791b900-785e-493a-a150-21f7b018d2af",
   "metadata": {},
   "outputs": [],
   "source": [
    "The SQL query to retrieve all rows from the \"customers\" table where the \"country\" column is equal to \"USA\" and\n",
    "the \"age\" column is greater than 25 "
   ]
  },
  {
   "cell_type": "code",
   "execution_count": null,
   "id": "14a18299-05ae-4b25-8a35-29aeb696bc1b",
   "metadata": {},
   "outputs": [],
   "source": [
    "SELECT * FROM customers WHERE country = 'USA' AND age > 25;\n"
   ]
  },
  {
   "cell_type": "code",
   "execution_count": null,
   "id": "21047e5a-7055-4dff-b09a-2ec43219c217",
   "metadata": {},
   "outputs": [],
   "source": [
    "When we execute this query with the data provided in the question, the result will be:"
   ]
  },
  {
   "cell_type": "code",
   "execution_count": null,
   "id": "6b5b1008-aac7-4ee9-86dd-2e152e9c0c18",
   "metadata": {},
   "outputs": [],
   "source": [
    "customer_id\tcustomer_name\tcountry\tage\n",
    "1\tJohn Smith\tUSA\t30\n",
    "5\tTom Johnson\tUSA\t37\n"
   ]
  }
 ],
 "metadata": {
  "kernelspec": {
   "display_name": "Python 3 (ipykernel)",
   "language": "python",
   "name": "python3"
  },
  "language_info": {
   "codemirror_mode": {
    "name": "ipython",
    "version": 3
   },
   "file_extension": ".py",
   "mimetype": "text/x-python",
   "name": "python",
   "nbconvert_exporter": "python",
   "pygments_lexer": "ipython3",
   "version": "3.10.8"
  }
 },
 "nbformat": 4,
 "nbformat_minor": 5
}
